{
 "cells": [
  {
   "cell_type": "markdown",
   "metadata": {},
   "source": [
    "# Finding Opportunities for Food Waste Recycling Business Using Applied Data Science Capstone"
   ]
  },
  {
   "cell_type": "markdown",
   "metadata": {},
   "source": [
    "## 1. Introduction"
   ]
  },
  {
   "cell_type": "markdown",
   "metadata": {},
   "source": [
    "### 1.1 Background"
   ]
  },
  {
   "cell_type": "markdown",
   "metadata": {},
   "source": [
    "US restaurants generate an estimated 22 to 33 billion pounds of food waste each year(1). Only five percent of food is composted in the US and as a result, uneaten food is the single largest component of municipal solid waste (2).  In landfills, food component breaks down and forms methane, a greenhouse gas that is up to 86 times more toxic than carbon dioxide. So, along with reduce and reuse, organic food waste recycling is of utmost importance to uphold the objective of the “environmental sustainability” goals. \n",
    "There are many uses of recycling organic food waste and so, various opportunities lie in recycling business. Green waste disposal can be converted into compost, a natural source of fertilizer (plant nutrient) for agriculture. The biogas released from decomposed organic food can be collected and used as alternative source of energy to fossil fuels. Moreover, waste cooking oil recycling is also one of the easiest among recycling businesses. Restaurants produce a vast amount of waste cooking oil that if not recycled end up in our waterways where it creates an environmental hazard. Waste cooking oil can be reprocessed into a number of secondary products such as biofuels, animal feed products, detergents or soap, paints and industrial lubricants.\n"
   ]
  },
  {
   "cell_type": "markdown",
   "metadata": {},
   "source": [
    "### 1.2 Business Problem"
   ]
  },
  {
   "cell_type": "markdown",
   "metadata": {},
   "source": [
    "To exploit the potential of business opportunity, stakeholders need to locate an economical and effective area for the collection of the waste materials i.e waste food and/or cooking oil. To find the potential zones where food waste production is high such as restaurants, groceries; I am using the knowledge of machine learning with Python. Clustering the probable waste generators and segmenting them into zones; I will have a better understanding of my ideal neighborhoods. "
   ]
  },
  {
   "cell_type": "markdown",
   "metadata": {},
   "source": [
    "### 1.3 Target Audience"
   ]
  },
  {
   "cell_type": "markdown",
   "metadata": {},
   "source": [
    "Food waste recycling startups that are looking for a suitable location and customers to whom they can provide their food waste recycling services."
   ]
  },
  {
   "cell_type": "markdown",
   "metadata": {},
   "source": [
    "## 2. Data"
   ]
  },
  {
   "cell_type": "markdown",
   "metadata": {},
   "source": [
    "Since Brooklyn is the most populous borough of New York city and the second-most densely populated county in the United States, I decided to explore the neighborhood of Brooklyn in my study. 2 sets of data have been used for this project.\n",
    "- New York city has a total of 5 boroughs and 306 neighborhoods. New York neighborhoods data along with the latitude and longitude coordinates of each neighborhood can be found [here](https://geo.nyu.edu/catalog/nyu_2451_34572).\n",
    "- Foursquare API where API is a RESTful set of addresses and in Foursquare platform one can send requests and use their data online without downloading anything into own server. With the help of Foursquare location data, I will be able to explore the whole neighborhood and the diversity of venues such as those that are essential target customers for me; restaurant, grocery stores etc.\n"
   ]
  },
  {
   "cell_type": "code",
   "execution_count": null,
   "metadata": {},
   "outputs": [],
   "source": []
  }
 ],
 "metadata": {
  "kernelspec": {
   "display_name": "Python",
   "language": "python",
   "name": "conda-env-python-py"
  },
  "language_info": {
   "codemirror_mode": {
    "name": "ipython",
    "version": 3
   },
   "file_extension": ".py",
   "mimetype": "text/x-python",
   "name": "python",
   "nbconvert_exporter": "python",
   "pygments_lexer": "ipython3",
   "version": "3.6.10"
  }
 },
 "nbformat": 4,
 "nbformat_minor": 4
}
